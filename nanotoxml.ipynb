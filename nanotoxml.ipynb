{
 "cells": [
  {
   "cell_type": "markdown",
   "metadata": {},
   "source": [
    "## Development of a Machine Learning Model to Predict the Cytotoxicity of Nanoparticles in Cell Cultures"
   ]
  },
  {
   "cell_type": "markdown",
   "metadata": {},
   "source": [
    "## 1. Libraries"
   ]
  },
  {
   "cell_type": "code",
   "execution_count": 21,
   "metadata": {},
   "outputs": [],
   "source": [
    "import pandas as pd\n",
    "import numpy as np\n",
    "import matplotlib.pyplot as plt\n",
    "import seaborn as sns"
   ]
  },
  {
   "cell_type": "markdown",
   "metadata": {},
   "source": [
    "## 2. Preliminary adjustments"
   ]
  },
  {
   "cell_type": "code",
   "execution_count": 22,
   "metadata": {},
   "outputs": [
    {
     "name": "stdout",
     "output_type": "stream",
     "text": [
      "Column Name - Missing Values (%) - Data Type\n",
      "Unnamed: 0 - 0.00% - int64\n",
      "material - 0.00% - object\n",
      "shape - 49.19% - object\n",
      "coat/functional group - 69.00% - object\n",
      "synthesismethod - 49.19% - object\n",
      "surface charge - 47.60% - object\n",
      "size in medium (nm) - 73.96% - float64\n",
      "zeta in medium (mV) - 79.97% - float64\n",
      "no of cells (cells/well) - 53.89% - float64\n",
      "human/animal - 16.15% - object\n",
      "cell source - 7.48% - object\n",
      "cell tissue - 7.48% - object\n",
      "cell morphology - 16.15% - object\n",
      "cell age - 16.15% - object\n",
      "time (hr) - 7.48% - float64\n",
      "concentration (ug/ml) - 36.07% - float64\n",
      "test - 7.48% - object\n",
      "test indicator - 16.15% - object\n",
      "viability (%) - 0.00% - float64\n",
      "DOI - 16.15% - object\n",
      "core size (nm) - 83.85% - float64\n",
      "surface area - 83.85% - float64\n",
      "Hydrodynamic diameter (nm) - 2.23% - float64\n",
      "Zeta potential (mV) - 41.96% - float64\n",
      "Cell type - 7.48% - object\n",
      "Molecular weight (g/mol) - 16.15% - float64\n"
     ]
    }
   ],
   "source": [
    "# Path to the dataset\n",
    "data_path = \"C:\\\\Users\\\\tikli\\\\Desktop\\\\NanoToxML\\\\Tox_DB.csv\"\n",
    "data = pd.read_csv(data_path)\n",
    "\n",
    "# Function to display detailed information about the dataset\n",
    "def dataset_detailed_overview(dataframe):\n",
    "    # Calculate the percentage of missing values for each column\n",
    "    missing_percentage = dataframe.isnull().mean() * 100\n",
    "    \n",
    "    # Print header\n",
    "    print(\"Column Name - Missing Values (%) - Data Type\")\n",
    "    \n",
    "    # Loop through each column and print the desired information\n",
    "    for col in dataframe.columns:\n",
    "        print(f\"{col} - {missing_percentage[col]:.2f}% - {dataframe[col].dtype}\")\n",
    "\n",
    "# Call the function with your dataset\n",
    "dataset_detailed_overview(data)"
   ]
  },
  {
   "cell_type": "code",
   "execution_count": 23,
   "metadata": {},
   "outputs": [
    {
     "name": "stdout",
     "output_type": "stream",
     "text": [
      "Cleaned dataset saved to C:\\Users\\tikli\\Desktop\\NanoToxML\\Tox_DB_Cleaned.csv\n"
     ]
    }
   ],
   "source": [
    "# Drop the unnecessary columns\n",
    "data_cleaned = data.drop(['Unnamed: 0', 'DOI'], axis=1)\n",
    "\n",
    "# Define the path for the new CSV file\n",
    "new_data_path = 'C:\\\\Users\\\\tikli\\\\Desktop\\\\NanoToxML\\\\Tox_DB_Cleaned.csv'\n",
    "\n",
    "# Save the cleaned dataset to a new CSV file\n",
    "data_cleaned.to_csv(new_data_path, index=False)\n",
    "\n",
    "print(f\"Cleaned dataset saved to {new_data_path}\")"
   ]
  },
  {
   "cell_type": "code",
   "execution_count": 24,
   "metadata": {},
   "outputs": [
    {
     "name": "stdout",
     "output_type": "stream",
     "text": [
      "Unique Cell Sources:\n",
      "Rat\n",
      "Mouse\n",
      "Monkey\n",
      "Dog\n",
      "Human\n",
      "Porcine\n",
      "Rabbit\n",
      "Catfish\n",
      "Hamster\n",
      "Pig\n",
      "Monkey (Cercopithecus aethiops)\n",
      "Canine\n",
      "hamster\n",
      "nan\n"
     ]
    }
   ],
   "source": [
    "# Load the dataset\n",
    "data_path = 'C:\\\\Users\\\\tikli\\\\Desktop\\\\NanoToxML\\\\Tox_DB_Cleaned.csv'\n",
    "data = pd.read_csv(data_path)\n",
    "\n",
    "# Get all unique variations in the 'cell source' column\n",
    "unique_cell_sources = data['cell source'].unique()\n",
    "\n",
    "# Print all unique cell sources\n",
    "print(\"Unique Cell Sources:\")\n",
    "for source in unique_cell_sources:\n",
    "    print(source)"
   ]
  },
  {
   "cell_type": "code",
   "execution_count": 25,
   "metadata": {},
   "outputs": [
    {
     "name": "stdout",
     "output_type": "stream",
     "text": [
      "Rows where both 'human/animal' and 'cell source' are missing: 494\n",
      "Rows where only 'human/animal' is missing and 'cell source' is available: 572\n",
      "Rows where only 'cell source' is missing and 'human/animal' is available: 0\n"
     ]
    }
   ],
   "source": [
    "# Load the dataset\n",
    "data_path = 'C:\\\\Users\\\\tikli\\\\Desktop\\\\NanoToxML\\\\Tox_DB_Cleaned.csv'\n",
    "data = pd.read_csv(data_path)\n",
    "\n",
    "# Check for missing values in both columns\n",
    "missing_human_animal = data['human/animal'].isnull()\n",
    "missing_cell_source = data['cell source'].isnull()\n",
    "\n",
    "# Calculate the scenarios\n",
    "both_missing = data[missing_human_animal & missing_cell_source].shape[0]\n",
    "only_human_animal_missing = data[missing_human_animal & ~missing_cell_source].shape[0]\n",
    "only_cell_source_missing = data[~missing_human_animal & missing_cell_source].shape[0]\n",
    "\n",
    "# Print the results\n",
    "print(f\"Rows where both 'human/animal' and 'cell source' are missing: {both_missing}\")\n",
    "print(f\"Rows where only 'human/animal' is missing and 'cell source' is available: {only_human_animal_missing}\")\n",
    "print(f\"Rows where only 'cell source' is missing and 'human/animal' is available: {only_cell_source_missing}\")"
   ]
  },
  {
   "cell_type": "code",
   "execution_count": 26,
   "metadata": {},
   "outputs": [
    {
     "name": "stdout",
     "output_type": "stream",
     "text": [
      "Updated dataset saved to C:\\Users\\tikli\\Desktop\\NanoToxML\\Tox_DB_Updated.csv\n"
     ]
    }
   ],
   "source": [
    "# Load the dataset\n",
    "data_path = 'C:\\\\Users\\\\tikli\\\\Desktop\\\\NanoToxML\\\\Tox_DB_Cleaned.csv'\n",
    "data = pd.read_csv(data_path)\n",
    "\n",
    "# Drop the 'human/animal' column\n",
    "data_dropped = data.drop('human/animal', axis=1)\n",
    "\n",
    "# Define the path for the new CSV file\n",
    "new_data_path = 'C:\\\\Users\\\\tikli\\\\Desktop\\\\NanoToxML\\\\Tox_DB_Updated.csv'\n",
    "\n",
    "# Save the updated dataset to a new CSV file\n",
    "data_dropped.to_csv(new_data_path, index=False)\n",
    "\n",
    "print(f\"Updated dataset saved to {new_data_path}\")"
   ]
  },
  {
   "cell_type": "code",
   "execution_count": 27,
   "metadata": {},
   "outputs": [
    {
     "name": "stdout",
     "output_type": "stream",
     "text": [
      "Column Name - Missing Values (%) - Data Type\n",
      "material - 0.00% - object\n",
      "shape - 49.19% - object\n",
      "coat/functional group - 69.00% - object\n",
      "synthesismethod - 49.19% - object\n",
      "surface charge - 47.60% - object\n",
      "size in medium (nm) - 73.96% - float64\n",
      "zeta in medium (mV) - 79.97% - float64\n",
      "no of cells (cells/well) - 53.89% - float64\n",
      "cell source - 7.48% - object\n",
      "cell tissue - 7.48% - object\n",
      "cell morphology - 16.15% - object\n",
      "cell age - 16.15% - object\n",
      "time (hr) - 7.48% - float64\n",
      "concentration (ug/ml) - 36.07% - float64\n",
      "test - 7.48% - object\n",
      "test indicator - 16.15% - object\n",
      "viability (%) - 0.00% - float64\n",
      "core size (nm) - 83.85% - float64\n",
      "surface area - 83.85% - float64\n",
      "Hydrodynamic diameter (nm) - 2.23% - float64\n",
      "Zeta potential (mV) - 41.96% - float64\n",
      "Cell type - 7.48% - object\n",
      "Molecular weight (g/mol) - 16.15% - float64\n"
     ]
    }
   ],
   "source": [
    "# Path to the dataset\n",
    "data_path = 'C:\\\\Users\\\\tikli\\\\Desktop\\\\NanoToxML\\\\Tox_DB_Updated.csv'\n",
    "data = pd.read_csv(data_path)\n",
    "\n",
    "# Function to display detailed information about the dataset\n",
    "def dataset_detailed_overview(dataframe):\n",
    "    # Calculate the percentage of missing values for each column\n",
    "    missing_percentage = dataframe.isnull().mean() * 100\n",
    "    \n",
    "    # Print header\n",
    "    print(\"Column Name - Missing Values (%) - Data Type\")\n",
    "    \n",
    "    # Loop through each column and print the desired information\n",
    "    for col in dataframe.columns:\n",
    "        print(f\"{col} - {missing_percentage[col]:.2f}% - {dataframe[col].dtype}\")\n",
    "\n",
    "# Call the function with your dataset\n",
    "dataset_detailed_overview(data)"
   ]
  }
 ],
 "metadata": {
  "kernelspec": {
   "display_name": "Python 3",
   "language": "python",
   "name": "python3"
  },
  "language_info": {
   "codemirror_mode": {
    "name": "ipython",
    "version": 3
   },
   "file_extension": ".py",
   "mimetype": "text/x-python",
   "name": "python",
   "nbconvert_exporter": "python",
   "pygments_lexer": "ipython3",
   "version": "3.12.2"
  }
 },
 "nbformat": 4,
 "nbformat_minor": 2
}
