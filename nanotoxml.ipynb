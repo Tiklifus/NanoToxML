{
 "cells": [
  {
   "cell_type": "markdown",
   "metadata": {},
   "source": [
    "## Development of a Machine Learning Model to Predict the Cytotoxicity of Nanoparticles in Cell Cultures"
   ]
  },
  {
   "cell_type": "markdown",
   "metadata": {},
   "source": [
    "## 1. Libraries"
   ]
  },
  {
   "cell_type": "code",
   "execution_count": 1,
   "metadata": {},
   "outputs": [],
   "source": [
    "import pandas as pd\n",
    "import numpy as np\n",
    "from sklearn.impute import SimpleImputer\n",
    "from sklearn.model_selection import train_test_split\n",
    "from sklearn.preprocessing import StandardScaler, OneHotEncoder\n",
    "from sklearn.compose import ColumnTransformer\n",
    "from sklearn.pipeline import Pipeline\n",
    "import matplotlib.pyplot as plt\n",
    "import seaborn as sns\n",
    "from sklearn.preprocessing import LabelEncoder"
   ]
  },
  {
   "cell_type": "code",
   "execution_count": 3,
   "metadata": {},
   "outputs": [
    {
     "name": "stdout",
     "output_type": "stream",
     "text": [
      "Column Name - Missing Values (%) - Data Type\n",
      "Unnamed: 0 - 0.00% - int64\n",
      "material - 0.00% - object\n",
      "shape - 49.19% - object\n",
      "coat/functional group - 69.00% - object\n",
      "synthesismethod - 49.19% - object\n",
      "surface charge - 47.60% - object\n",
      "size in medium (nm) - 73.96% - float64\n",
      "zeta in medium (mV) - 79.97% - float64\n",
      "no of cells (cells/well) - 53.89% - float64\n",
      "human/animal - 16.15% - object\n",
      "cell source - 7.48% - object\n",
      "cell tissue - 7.48% - object\n",
      "cell morphology - 16.15% - object\n",
      "cell age - 16.15% - object\n",
      "time (hr) - 7.48% - float64\n",
      "concentration (ug/ml) - 36.07% - float64\n",
      "test - 7.48% - object\n",
      "test indicator - 16.15% - object\n",
      "viability (%) - 0.00% - float64\n",
      "DOI - 16.15% - object\n",
      "core size (nm) - 83.85% - float64\n",
      "surface area - 83.85% - float64\n",
      "Hydrodynamic diameter (nm) - 2.23% - float64\n",
      "Zeta potential (mV) - 41.96% - float64\n",
      "Cell type - 7.48% - object\n",
      "Molecular weight (g/mol) - 16.15% - float64\n"
     ]
    }
   ],
   "source": [
    "# Path to the dataset\n",
    "data_path = \"C:\\\\Users\\\\tikli\\\\Desktop\\\\NanoToxML\\\\Tox_DB.csv\"\n",
    "data = pd.read_csv(data_path)\n",
    "\n",
    "# Function to display detailed information about the dataset\n",
    "def dataset_detailed_overview(dataframe):\n",
    "    # Calculate the percentage of missing values for each column\n",
    "    missing_percentage = dataframe.isnull().mean() * 100\n",
    "    \n",
    "    # Print header\n",
    "    print(\"Column Name - Missing Values (%) - Data Type\")\n",
    "    \n",
    "    # Loop through each column and print the desired information\n",
    "    for col in dataframe.columns:\n",
    "        print(f\"{col} - {missing_percentage[col]:.2f}% - {dataframe[col].dtype}\")\n",
    "\n",
    "# Call the function with your dataset\n",
    "dataset_detailed_overview(data)"
   ]
  },
  {
   "cell_type": "code",
   "execution_count": 5,
   "metadata": {},
   "outputs": [
    {
     "name": "stdout",
     "output_type": "stream",
     "text": [
      "Cleaned dataset saved to C:\\Users\\tikli\\Desktop\\NanoToxML\\Tox_DB_Cleaned.csv\n"
     ]
    }
   ],
   "source": [
    "# Drop the unnecessary columns\n",
    "data_cleaned = data.drop(['Unnamed: 0', 'DOI'], axis=1)\n",
    "\n",
    "# Define the path for the new CSV file\n",
    "new_data_path = 'C:\\\\Users\\\\tikli\\\\Desktop\\\\NanoToxML\\\\Tox_DB_Cleaned.csv'\n",
    "\n",
    "# Save the cleaned dataset to a new CSV file\n",
    "data_cleaned.to_csv(new_data_path, index=False)\n",
    "\n",
    "print(f\"Cleaned dataset saved to {new_data_path}\")"
   ]
  }
 ],
 "metadata": {
  "kernelspec": {
   "display_name": "Python 3",
   "language": "python",
   "name": "python3"
  },
  "language_info": {
   "codemirror_mode": {
    "name": "ipython",
    "version": 3
   },
   "file_extension": ".py",
   "mimetype": "text/x-python",
   "name": "python",
   "nbconvert_exporter": "python",
   "pygments_lexer": "ipython3",
   "version": "3.12.2"
  }
 },
 "nbformat": 4,
 "nbformat_minor": 2
}
