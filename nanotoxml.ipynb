{
 "cells": [
  {
   "cell_type": "markdown",
   "metadata": {},
   "source": [
    "## Development of a Machine Learning Model to Predict the Cytotoxicity of Nanoparticles in Cell Cultures"
   ]
  },
  {
   "cell_type": "markdown",
   "metadata": {},
   "source": [
    "## 1. Libraries"
   ]
  },
  {
   "cell_type": "code",
   "execution_count": 1,
   "metadata": {},
   "outputs": [],
   "source": [
    "import pandas as pd\n",
    "import numpy as np\n",
    "import matplotlib.pyplot as plt\n",
    "import seaborn as sns"
   ]
  },
  {
   "cell_type": "markdown",
   "metadata": {},
   "source": [
    "## 2. Preliminary adjustments\n",
    "### 2.1. Info about dataset"
   ]
  },
  {
   "cell_type": "code",
   "execution_count": 2,
   "metadata": {},
   "outputs": [
    {
     "name": "stdout",
     "output_type": "stream",
     "text": [
      "Column Name - Missing Values (%) - Data Type\n",
      "Unnamed: 0 - 0.00% - int64\n",
      "material - 0.00% - object\n",
      "shape - 49.19% - object\n",
      "coat/functional group - 69.00% - object\n",
      "synthesismethod - 49.19% - object\n",
      "surface charge - 47.60% - object\n",
      "size in medium (nm) - 73.96% - float64\n",
      "zeta in medium (mV) - 79.97% - float64\n",
      "no of cells (cells/well) - 53.89% - float64\n",
      "human/animal - 16.15% - object\n",
      "cell source - 7.48% - object\n",
      "cell tissue - 7.48% - object\n",
      "cell morphology - 16.15% - object\n",
      "cell age - 16.15% - object\n",
      "time (hr) - 7.48% - float64\n",
      "concentration (ug/ml) - 36.07% - float64\n",
      "test - 7.48% - object\n",
      "test indicator - 16.15% - object\n",
      "viability (%) - 0.00% - float64\n",
      "DOI - 16.15% - object\n",
      "core size (nm) - 83.85% - float64\n",
      "surface area - 83.85% - float64\n",
      "Hydrodynamic diameter (nm) - 2.23% - float64\n",
      "Zeta potential (mV) - 41.96% - float64\n",
      "Cell type - 7.48% - object\n",
      "Molecular weight (g/mol) - 16.15% - float64\n"
     ]
    }
   ],
   "source": [
    "# Path to the dataset\n",
    "data_path = \"C:\\\\Users\\\\tikli\\\\Desktop\\\\NanoToxML\\\\Tox_DB.csv\"\n",
    "data = pd.read_csv(data_path)\n",
    "\n",
    "# Function to display detailed information about the dataset\n",
    "def dataset_detailed_overview(dataframe):\n",
    "    # Calculate the percentage of missing values for each column\n",
    "    missing_percentage = dataframe.isnull().mean() * 100\n",
    "    \n",
    "    # Print header\n",
    "    print(\"Column Name - Missing Values (%) - Data Type\")\n",
    "    \n",
    "    # Loop through each column and print the desired information\n",
    "    for col in dataframe.columns:\n",
    "        print(f\"{col} - {missing_percentage[col]:.2f}% - {dataframe[col].dtype}\")\n",
    "\n",
    "# Call the function with your dataset\n",
    "dataset_detailed_overview(data)"
   ]
  },
  {
   "cell_type": "markdown",
   "metadata": {},
   "source": [
    "### 2.2. Dropping Unnecessary colomns"
   ]
  },
  {
   "cell_type": "code",
   "execution_count": 3,
   "metadata": {},
   "outputs": [
    {
     "name": "stdout",
     "output_type": "stream",
     "text": [
      "Cleaned dataset saved to C:\\Users\\tikli\\Desktop\\NanoToxML\\Tox_DB_Cleaned.csv\n"
     ]
    }
   ],
   "source": [
    "# Drop the unnecessary columns\n",
    "data_cleaned = data.drop(['Unnamed: 0', 'DOI'], axis=1)\n",
    "\n",
    "# Define the path for the new CSV file\n",
    "new_data_path = 'C:\\\\Users\\\\tikli\\\\Desktop\\\\NanoToxML\\\\Tox_DB_Cleaned.csv'\n",
    "\n",
    "# Save the cleaned dataset to a new CSV file\n",
    "data_cleaned.to_csv(new_data_path, index=False)\n",
    "\n",
    "print(f\"Cleaned dataset saved to {new_data_path}\")"
   ]
  },
  {
   "cell_type": "code",
   "execution_count": 4,
   "metadata": {},
   "outputs": [
    {
     "name": "stdout",
     "output_type": "stream",
     "text": [
      "Unique Cell Sources:\n",
      "Rat\n",
      "Mouse\n",
      "Monkey\n",
      "Dog\n",
      "Human\n",
      "Porcine\n",
      "Rabbit\n",
      "Catfish\n",
      "Hamster\n",
      "Pig\n",
      "Monkey (Cercopithecus aethiops)\n",
      "Canine\n",
      "hamster\n",
      "nan\n"
     ]
    }
   ],
   "source": [
    "# Load the dataset\n",
    "data_path = 'C:\\\\Users\\\\tikli\\\\Desktop\\\\NanoToxML\\\\Tox_DB_Cleaned.csv'\n",
    "data = pd.read_csv(data_path)\n",
    "\n",
    "# Get all unique variations in the 'cell source' column\n",
    "unique_cell_sources = data['cell source'].unique()\n",
    "\n",
    "# Print all unique cell sources\n",
    "print(\"Unique Cell Sources:\")\n",
    "for source in unique_cell_sources:\n",
    "    print(source)"
   ]
  },
  {
   "cell_type": "code",
   "execution_count": 5,
   "metadata": {},
   "outputs": [
    {
     "name": "stdout",
     "output_type": "stream",
     "text": [
      "Rows where both 'human/animal' and 'cell source' are missing: 494\n",
      "Rows where only 'human/animal' is missing and 'cell source' is available: 572\n",
      "Rows where only 'cell source' is missing and 'human/animal' is available: 0\n"
     ]
    }
   ],
   "source": [
    "# Load the dataset\n",
    "data_path = 'C:\\\\Users\\\\tikli\\\\Desktop\\\\NanoToxML\\\\Tox_DB_Cleaned.csv'\n",
    "data = pd.read_csv(data_path)\n",
    "\n",
    "# Check for missing values in both columns\n",
    "missing_human_animal = data['human/animal'].isnull()\n",
    "missing_cell_source = data['cell source'].isnull()\n",
    "\n",
    "# Calculate the scenarios\n",
    "both_missing = data[missing_human_animal & missing_cell_source].shape[0]\n",
    "only_human_animal_missing = data[missing_human_animal & ~missing_cell_source].shape[0]\n",
    "only_cell_source_missing = data[~missing_human_animal & missing_cell_source].shape[0]\n",
    "\n",
    "# Print the results\n",
    "print(f\"Rows where both 'human/animal' and 'cell source' are missing: {both_missing}\")\n",
    "print(f\"Rows where only 'human/animal' is missing and 'cell source' is available: {only_human_animal_missing}\")\n",
    "print(f\"Rows where only 'cell source' is missing and 'human/animal' is available: {only_cell_source_missing}\")"
   ]
  },
  {
   "cell_type": "code",
   "execution_count": 6,
   "metadata": {},
   "outputs": [
    {
     "name": "stdout",
     "output_type": "stream",
     "text": [
      "Updated dataset saved to C:\\Users\\tikli\\Desktop\\NanoToxML\\Tox_DB_Updated.csv\n"
     ]
    }
   ],
   "source": [
    "# Load the dataset\n",
    "data_path = 'C:\\\\Users\\\\tikli\\\\Desktop\\\\NanoToxML\\\\Tox_DB_Cleaned.csv'\n",
    "data = pd.read_csv(data_path)\n",
    "\n",
    "# Drop the 'human/animal' column\n",
    "data_dropped = data.drop('human/animal', axis=1)\n",
    "\n",
    "# Define the path for the new CSV file\n",
    "new_data_path = 'C:\\\\Users\\\\tikli\\\\Desktop\\\\NanoToxML\\\\Tox_DB_Updated.csv'\n",
    "\n",
    "# Save the updated dataset to a new CSV file\n",
    "data_dropped.to_csv(new_data_path, index=False)\n",
    "\n",
    "print(f\"Updated dataset saved to {new_data_path}\")"
   ]
  },
  {
   "cell_type": "markdown",
   "metadata": {},
   "source": [
    "### 2.3. Dropping colomns with more than 20% missing values and less meaningful ones"
   ]
  },
  {
   "cell_type": "code",
   "execution_count": 7,
   "metadata": {},
   "outputs": [
    {
     "name": "stdout",
     "output_type": "stream",
     "text": [
      "The dataset has been updated and overwritten at C:\\Users\\tikli\\Desktop\\NanoToxML\\Tox_DB_Updated.csv\n"
     ]
    }
   ],
   "source": [
    "# Load the dataset\n",
    "data_path = 'C:\\\\Users\\\\tikli\\\\Desktop\\\\NanoToxML\\\\Tox_DB_Updated.csv'\n",
    "data = pd.read_csv(data_path)\n",
    "\n",
    "# Calculate the percentage of missing values for each column\n",
    "missing_percentages = data.isnull().mean() * 100\n",
    "\n",
    "# Identify and drop columns with more than 20% missing values\n",
    "columns_to_drop = missing_percentages[missing_percentages > 20].index\n",
    "data_cleaned = data.drop(columns=columns_to_drop)\n",
    "\n",
    "# Overwrite the original dataset with the cleaned data\n",
    "data_cleaned.to_csv(data_path, index=False)\n",
    "\n",
    "print(\"The dataset has been updated and overwritten at\", data_path)"
   ]
  },
  {
   "cell_type": "code",
   "execution_count": 8,
   "metadata": {},
   "outputs": [
    {
     "name": "stdout",
     "output_type": "stream",
     "text": [
      "Columns 'Cell Morphology' and 'Cell Age' have been removed and the dataset has been updated.\n"
     ]
    }
   ],
   "source": [
    "# Load the dataset\n",
    "data_path = 'C:\\\\Users\\\\tikli\\\\Desktop\\\\NanoToxML\\\\Tox_DB_Updated.csv'\n",
    "data = pd.read_csv(data_path)\n",
    "\n",
    "# Drop the 'Cell Morphology' and 'Cell Age' columns\n",
    "data_cleaned = data.drop(columns=['cell morphology', 'cell age'])\n",
    "\n",
    "# Overwrite the original dataset with the updated data\n",
    "data_cleaned.to_csv(data_path, index=False)\n",
    "\n",
    "print(\"Columns 'Cell Morphology' and 'Cell Age' have been removed and the dataset has been updated.\")"
   ]
  },
  {
   "cell_type": "markdown",
   "metadata": {},
   "source": [
    "### 2.4. Info about data before encoding"
   ]
  },
  {
   "cell_type": "code",
   "execution_count": 9,
   "metadata": {},
   "outputs": [
    {
     "name": "stdout",
     "output_type": "stream",
     "text": [
      "Column Name - Missing Values (%) - Data Type\n",
      "material - 0.00% - object\n",
      "cell source - 7.48% - object\n",
      "cell tissue - 7.48% - object\n",
      "time (hr) - 7.48% - float64\n",
      "test - 7.48% - object\n",
      "test indicator - 16.15% - object\n",
      "viability (%) - 0.00% - float64\n",
      "Hydrodynamic diameter (nm) - 2.23% - float64\n",
      "Cell type - 7.48% - object\n",
      "Molecular weight (g/mol) - 16.15% - float64\n"
     ]
    }
   ],
   "source": [
    "# Path to the dataset\n",
    "data_path = 'C:\\\\Users\\\\tikli\\\\Desktop\\\\NanoToxML\\\\Tox_DB_Updated.csv'\n",
    "data = pd.read_csv(data_path)\n",
    "\n",
    "# Function to display detailed information about the dataset\n",
    "def dataset_detailed_overview(dataframe):\n",
    "    # Calculate the percentage of missing values for each column\n",
    "    missing_percentage = dataframe.isnull().mean() * 100\n",
    "    \n",
    "    # Print header\n",
    "    print(\"Column Name - Missing Values (%) - Data Type\")\n",
    "    \n",
    "    # Loop through each column and print the desired information\n",
    "    for col in dataframe.columns:\n",
    "        print(f\"{col} - {missing_percentage[col]:.2f}% - {dataframe[col].dtype}\")\n",
    "\n",
    "# Call the function with your dataset\n",
    "dataset_detailed_overview(data)"
   ]
  },
  {
   "cell_type": "markdown",
   "metadata": {},
   "source": [
    "## 3. Adding additional database"
   ]
  },
  {
   "cell_type": "code",
   "execution_count": 12,
   "metadata": {},
   "outputs": [
    {
     "name": "stdout",
     "output_type": "stream",
     "text": [
      "The data has been successfully merged and saved.\n"
     ]
    }
   ],
   "source": [
    "# Paths to your datasets\n",
    "path_tox = 'C:\\\\Users\\\\tikli\\\\Desktop\\\\NanoToxML\\\\Tox_DB_Updated.csv'\n",
    "path_props = 'C:\\\\Users\\\\tikli\\\\Desktop\\\\NanoToxML\\\\inorg prop - 1.csv'\n",
    "\n",
    "# Load the datasets\n",
    "tox_data = pd.read_csv(path_tox)\n",
    "props_data = pd.read_csv(path_props)\n",
    "\n",
    "# Select only the relevant columns from the properties dataset\n",
    "props_data_selected = props_data[['formula', 'AR', 'IR', 'X', 'E', 'pot']]\n",
    "\n",
    "# Merging the datasets on 'material' from tox_data and 'formula' from props_data\n",
    "merged_data = pd.merge(tox_data, props_data_selected, left_on='material', right_on='formula', how='left')\n",
    "\n",
    "# Drop the 'formula' column as it is redundant after the merge\n",
    "merged_data.drop(columns=['formula'], inplace=True)\n",
    "\n",
    "# Save the merged dataset to a new CSV file\n",
    "merged_data.to_csv('C:\\\\Users\\\\tikli\\\\Desktop\\\\NanoToxML\\\\Merged_NanoToxML_Data.csv', index=False)\n",
    "\n",
    "print(\"The data has been successfully merged and saved.\")"
   ]
  },
  {
   "cell_type": "markdown",
   "metadata": {},
   "source": [
    "## 4. Encoding the data"
   ]
  },
  {
   "cell_type": "code",
   "execution_count": 13,
   "metadata": {},
   "outputs": [
    {
     "name": "stdout",
     "output_type": "stream",
     "text": [
      "Material Mapping: {'Ag': 0, 'Al2O3': 1, 'Au': 2, 'Bi': 3, 'Bi2O3': 4, 'C': 5, 'CaHCO3': 6, 'CdO': 7, 'CeO2': 8, 'Co': 9, 'Co3O4': 10, 'CoO': 11, 'Cr': 12, 'Cu': 13, 'Cu2O': 14, 'CuO': 15, 'CuS': 16, 'Fe2O3': 17, 'Fe3O4': 18, 'Gd2O3': 19, 'HfO2': 20, 'In2O3': 21, 'La2O3': 22, 'MgO': 23, 'Mn2O3': 24, 'MnO': 25, 'Mo': 26, 'Ni': 27, 'NiO': 28, 'Pt': 29, 'Sb2O3': 30, 'Se': 31, 'SiO2': 32, 'Ti': 33, 'TiO2': 34, 'ZnO': 35, 'ZrO2': 36}\n",
      "Cell Type Mapping: {'143B': 0, '16HBE': 1, '3T3-L1': 2, '95D': 3, 'A2780': 4, 'A431': 5, 'A549': 6, 'AGS': 7, 'ASM': 8, 'Ana-1': 9, 'B cells': 10, 'BALB/c3T3': 11, 'BEAS-2B': 12, 'BEAS_2B': 13, 'BEAS\\xad2B': 14, 'BEC': 15, 'BJ': 16, 'C17.2': 17, 'C18–4': 18, 'C3A': 19, 'C6': 20, 'CCL-110': 21, 'CD3+ T cells': 22, 'CD4+T cells': 23, 'CDBgeo': 24, 'CHO-K1': 25, 'CHO22': 26, 'CHO\\xadK1': 27, 'Caco-2': 28, 'Caco_2': 29, 'Caco\\xad2': 30, 'Chang_Liver': 31, 'EBF': 32, 'ECV304': 33, 'EJ28': 34, 'Fibroblasts': 35, 'GH3': 36, 'H1299': 37, 'H4': 38, 'HAEC': 39, 'HCMEC': 40, 'HCT-116': 41, 'HDF': 42, 'HEBC3-KT': 43, 'HEK': 44, 'HEK293': 45, 'HEK\\xad293': 46, 'HEp-2': 47, 'HFL1': 48, 'HGF': 49, 'HK-2': 50, 'HMEC\\xad1': 51, 'HMM': 52, 'HONDC': 53, 'HT-1080': 54, 'HT29': 55, 'HUVEC': 56, 'HaCaT\\xa0': 57, 'HaCat': 58, 'HeLa': 59, 'HepG2': 60, 'Hepatocytes': 61, 'IMR90': 62, 'IP15': 63, 'J774A.1': 64, 'Jurkat': 65, 'KEC': 66, 'L-02': 67, 'L-132': 68, 'L929': 69, 'LLC\\xadPK1': 70, 'L_02': 71, 'LoVo': 72, 'Lymphocyte': 73, 'Lymphocytes': 74, 'L\\xad02': 75, 'MC3T3-E1': 76, 'MCF-7': 77, 'MCF7': 78, 'MCF_10A': 79, 'MDA\\xadMB\\xad231': 80, 'MDCK': 81, 'MDCK-II': 82, 'MEF': 83, 'MG-63': 84, 'MG\\xad63': 85, 'Macrophages': 86, 'MeT_5A': 87, 'Memory T\\xadcell': 88, 'Monocytes': 89, 'NCIH441': 90, 'NHDF': 91, 'NIH3T3': 92, 'NK cells': 93, 'NR8383': 94, 'NRK-52E': 95, 'Naive T\\xadcell': 96, 'Neuro\\xad2a': 97, 'PAECs': 98, 'PBMC': 99, 'PC12': 100, 'PC3': 101, 'PK-15': 102, 'PMA activated THP\\xad1': 103, 'RAW 264.7': 104, 'RAW264.7': 105, 'RAW264_7': 106, 'RFPEC': 107, 'SHSY5Y': 108, 'SH_SY5Y': 109, 'SH\\xadSY5Y': 110, 'SIRC': 111, 'SKOV-3': 112, 'SKOV\\xad3': 113, 'SVEC4\\xad10': 114, 'SW480': 115, 'T cells (all types)': 116, 'T98G': 117, 'TD': 118, 'THP-1': 119, 'U87': 120, 'UM-UC-3': 121, 'V14': 122, 'V79': 123, 'V79_4': 124, 'VERO': 125, 'WA09': 126, 'WISH': 127, 'WI_38': 128, 'hFOB1.19': 129, 'hMSC': 130, 'hMSCs': 131, 'hPDLF': 132, 'hTERT\\xadBJ1': 133, 'mDF': 134, 'neuro2A': 135, 'primary alveolar Epithelial cells': 136, 'primary alveolar Macrophage': 137, 'primary alveolar epithelial cells': 138, 'primary tissue Macrophage': 139}\n",
      "Cell Source Mapping: {'Canine': 0, 'Catfish': 1, 'Dog': 2, 'Hamster': 3, 'Human': 4, 'Monkey': 5, 'Monkey (Cercopithecus aethiops)': 6, 'Mouse': 7, 'Pig': 8, 'Porcine': 9, 'Rabbit': 10, 'Rat': 11, 'hamster': 12}\n",
      "Cell Tissue Mapping: {'Adrenal Gland': 0, 'Adrenal gland': 1, 'Amnion': 2, 'Aorta': 3, 'Areolar tissue': 4, 'Ascites': 5, 'Blood': 6, 'Bone': 7, 'Bone Marrow': 8, 'Bone marrow': 9, 'BoneMarrow': 10, 'Brain': 11, 'Breast': 12, 'Cerebellum': 13, 'Cervix': 14, 'Colon': 15, 'Connective Tissue': 16, 'Cornea': 17, 'Embryo': 18, 'FatPad': 19, 'Foreskin': 20, 'Gingiva': 21, 'Heart': 22, 'Kidney': 23, 'Liver': 24, 'Lung': 25, 'Mesothelium': 26, 'Nose': 27, 'Ovary': 28, 'Peritoneal Cavity': 29, 'Prostate': 30, 'RespiratoryTract': 31, 'Skin': 32, 'Stomach': 33, 'SubcutaneousConnectiveTissue': 34, 'Teeth': 35, 'Testis': 36, 'Umbilical Vein': 37, 'Umbilical cord': 38, 'Urinary bladder': 39, 'UrinaryBladder': 40, 'axillary lymph node': 41, 'embryo': 42, 'kidney': 43, 'liver': 44, 'lung': 45, 'pituitary gland': 46, 'stomach': 47}\n",
      "Test Mapping: {'ATP': 0, 'ATPLite': 1, 'Alamar Blue': 2, 'Alamar blue': 3, 'AlamarBlue': 4, 'Alamar_blue': 5, 'Annexiv_V_PI_staining': 6, 'ApoTox\\xadGlo™ Triplex': 7, 'CCK-8': 8, 'CVS': 9, 'CellTiterBlue': 10, 'CellTiterGlo': 11, 'CellTiter\\xadBlue': 12, 'CellTiter\\xadBlue ': 13, 'CellTiter\\xadGlo': 14, 'CyQuant': 15, 'CytoTox-Glo': 16, 'CytoTox\\xadOne™': 17, 'EZ4U': 18, 'LDH': 19, 'Live/Dead': 20, 'MTS': 21, 'MTT': 22, 'NR': 23, 'NRU': 24, 'Promegas CTB Assay': 25, 'Resazurin': 26, 'Vialight': 27, 'WST-1': 28, 'WST\\xad1': 29, 'WST\\xad8': 30, 'XTT': 31}\n",
      "Test Indicator Mapping: {'Alamar blue': 0, 'AlamarBlue': 1, 'Annexin V': 2, 'Calcein AM, Ethidium homodimer-1': 3, 'CalceinAM': 4, 'Caspase-Glo® 3/7 Reagent': 5, 'CrystalViolet': 6, 'Dead-Cell-Protease': 7, 'LDH activity assay kit': 8, 'LDHrelease': 9, 'LuciferaseEnzyme': 10, 'NeutralRed': 11, 'Propidium iodide': 12, 'PropidiumIodide': 13, 'Sytox Red': 14, 'TetrazoliumSalt': 15, 'Trypan Blue': 16, 'TrypanBlue': 17, 'calcein AM': 18, 'luciferase': 19, 'propidium iodide': 20, 'propidium iodide, Annexin V': 21, 'tetrazolium salt': 22, 'toluylene red': 23, 'trypan blue': 24}\n"
     ]
    }
   ],
   "source": [
    "def encode_column(dataframe, column_name):\n",
    "    \"\"\"Encodes the specified column of the dataframe using unique integer labels.\"\"\"\n",
    "    unique_values = sorted(dataframe[column_name].dropna().unique())\n",
    "    mapping_dict = {value: idx for idx, value in enumerate(unique_values)}\n",
    "    return dataframe[column_name].map(mapping_dict), mapping_dict\n",
    "\n",
    "def main():\n",
    "    # Load the dataset\n",
    "    file_path = 'C:\\\\Users\\\\tikli\\\\Desktop\\\\NanoToxML\\\\Merged_NanoToxML_Data.csv' \n",
    "    data = pd.read_csv(file_path)\n",
    "    \n",
    "    # Encoding categorical columns\n",
    "    data['material'], material_map = encode_column(data, 'material')\n",
    "    data['Cell type'], cell_type_map = encode_column(data, 'Cell type')\n",
    "    data['cell source'], cell_source_map = encode_column(data, 'cell source')\n",
    "    data['cell tissue'], cell_tissue_map = encode_column(data, 'cell tissue')\n",
    "    data['test'], test_map = encode_column(data, 'test')\n",
    "    data['test indicator'], test_indicator_map = encode_column(data, 'test indicator')\n",
    "\n",
    "    # Save the encoded dataset\n",
    "    output_path = 'C:\\\\Users\\\\tikli\\\\Desktop\\\\NanoToxML\\\\Tox_DB_Encoded.csv'\n",
    "    data.to_csv(output_path, index=False)\n",
    "    \n",
    "    # Print the mappings for reference\n",
    "    print(\"Material Mapping:\", material_map)\n",
    "    print(\"Cell Type Mapping:\", cell_type_map)\n",
    "    print(\"Cell Source Mapping:\", cell_source_map)\n",
    "    print(\"Cell Tissue Mapping:\", cell_tissue_map)\n",
    "    print(\"Test Mapping:\", test_map)\n",
    "    print(\"Test Indicator Mapping:\", test_indicator_map)\n",
    "\n",
    "if __name__ == \"__main__\":\n",
    "    main()"
   ]
  },
  {
   "cell_type": "markdown",
   "metadata": {},
   "source": [
    "## 5. Handling missing values with k-NN"
   ]
  },
  {
   "cell_type": "code",
   "execution_count": null,
   "metadata": {},
   "outputs": [],
   "source": []
  }
 ],
 "metadata": {
  "kernelspec": {
   "display_name": "Python 3",
   "language": "python",
   "name": "python3"
  },
  "language_info": {
   "codemirror_mode": {
    "name": "ipython",
    "version": 3
   },
   "file_extension": ".py",
   "mimetype": "text/x-python",
   "name": "python",
   "nbconvert_exporter": "python",
   "pygments_lexer": "ipython3",
   "version": "3.12.2"
  }
 },
 "nbformat": 4,
 "nbformat_minor": 2
}
